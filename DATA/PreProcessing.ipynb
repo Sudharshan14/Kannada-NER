{
 "cells": [
  {
   "cell_type": "code",
   "execution_count": 1,
   "id": "c0aa9991-77f2-4a2d-84cb-ff4c3d7fe4dc",
   "metadata": {},
   "outputs": [],
   "source": [
    "import random\n",
    "\n",
    "# Function to convert text into desired format\n",
    "def convert_to_format(text, label):\n",
    "    formatted_text = \"\\t\".join([\" \".join(word) for word in zip(text, list(text))])\n",
    "    return f\"{formatted_text}\\t{label}\"\n",
    "\n",
    "# Split data into train, test, and validate sets\n",
    "def split_data(data, train_ratio=0.7, test_ratio=0.15):\n",
    "    train_size = int(train_ratio * len(data))\n",
    "    test_size = int(test_ratio * len(data))\n",
    "    validate_size = len(data) - train_size - test_size\n",
    "    random.shuffle(data)\n",
    "    train_data = data[:train_size]\n",
    "    test_data = data[train_size:train_size+test_size]\n",
    "    validate_data = data[train_size+test_size:]\n",
    "    return train_data, test_data, validate_data\n",
    "\n",
    "# Function to read data from text file\n",
    "def read_data(file_path):\n",
    "    with open(file_path, \"r\", encoding=\"utf-8\") as f:\n",
    "        lines = f.readlines()\n",
    "    data = []\n",
    "    for line in lines:\n",
    "        parts = line.strip().split(\"\\t\")\n",
    "        text = parts[:-1]\n",
    "        label = parts[-1]\n",
    "        data.append((text, label))\n",
    "    return data\n",
    "\n",
    "# Function to save data into files\n",
    "def save_data(data, filename):\n",
    "    with open(filename, \"w\", encoding=\"utf-8\") as f:\n",
    "        for text, label in data:\n",
    "            formatted_text = convert_to_format(text, label)\n",
    "            f.write(formatted_text + \"\\n\")\n",
    "\n",
    "# Read data from text file\n",
    "data = read_data(\"annotated.txt\")\n",
    "\n",
    "# Split data into train, test, and validate sets\n",
    "train_data, test_data, validate_data = split_data(data)\n",
    "\n",
    "# Save data into train, test, and validate files\n",
    "save_data(train_data, \"train.txt\")\n",
    "save_data(test_data, \"test.txt\")\n",
    "save_data(validate_data, \"validate.txt\")\n"
   ]
  },
  {
   "cell_type": "code",
   "execution_count": null,
   "id": "6d24aeaa-5608-4dc0-9e5a-081461076227",
   "metadata": {},
   "outputs": [],
   "source": []
  }
 ],
 "metadata": {
  "kernelspec": {
   "display_name": "applied-ai",
   "language": "python",
   "name": "applied-ai"
  },
  "language_info": {
   "codemirror_mode": {
    "name": "ipython",
    "version": 3
   },
   "file_extension": ".py",
   "mimetype": "text/x-python",
   "name": "python",
   "nbconvert_exporter": "python",
   "pygments_lexer": "ipython3",
   "version": "3.10.13"
  }
 },
 "nbformat": 4,
 "nbformat_minor": 5
}
